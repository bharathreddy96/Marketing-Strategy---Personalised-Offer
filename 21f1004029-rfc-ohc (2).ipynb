{
 "cells": [
  {
   "cell_type": "code",
   "execution_count": 1,
   "id": "6bdfab29",
   "metadata": {
    "_cell_guid": "b1076dfc-b9ad-4769-8c92-a6c4dae69d19",
    "_uuid": "8f2839f25d086af736a60e9eeb907d3b93b6e0e5",
    "execution": {
     "iopub.execute_input": "2023-01-12T08:35:06.707559Z",
     "iopub.status.busy": "2023-01-12T08:35:06.706521Z",
     "iopub.status.idle": "2023-01-12T08:35:06.722963Z",
     "shell.execute_reply": "2023-01-12T08:35:06.721650Z"
    },
    "papermill": {
     "duration": 0.028958,
     "end_time": "2023-01-12T08:35:06.725859",
     "exception": false,
     "start_time": "2023-01-12T08:35:06.696901",
     "status": "completed"
    },
    "tags": []
   },
   "outputs": [
    {
     "name": "stdout",
     "output_type": "stream",
     "text": [
      "/kaggle/input/marketing-strategy-personalised-offer/sample.csv\n",
      "/kaggle/input/marketing-strategy-personalised-offer/train_data.csv\n",
      "/kaggle/input/marketing-strategy-personalised-offer/test_data.csv\n"
     ]
    }
   ],
   "source": [
    "# This Python 3 environment comes with many helpful analytics libraries installed\n",
    "# It is defined by the kaggle/python Docker image: https://github.com/kaggle/docker-python\n",
    "# For example, here's several helpful packages to load\n",
    "\n",
    "import numpy as np # linear algebra\n",
    "import pandas as pd # data processing, CSV file I/O (e.g. pd.read_csv)\n",
    "\n",
    "# Input data files are available in the read-only \"../input/\" directory\n",
    "# For example, running this (by clicking run or pressing Shift+Enter) will list all files under the input directory\n",
    "\n",
    "import os\n",
    "for dirname, _, filenames in os.walk('/kaggle/input'):\n",
    "    for filename in filenames:\n",
    "        print(os.path.join(dirname, filename))\n",
    "\n",
    "# You can write up to 20GB to the current directory (/kaggle/working/) that gets preserved as output when you create a version using \"Save & Run All\" \n",
    "# You can also write temporary files to /kaggle/temp/, but they won't be saved outside of the current session"
   ]
  },
  {
   "cell_type": "code",
   "execution_count": 2,
   "id": "0f8ad4b5",
   "metadata": {
    "execution": {
     "iopub.execute_input": "2023-01-12T08:35:06.740456Z",
     "iopub.status.busy": "2023-01-12T08:35:06.740017Z",
     "iopub.status.idle": "2023-01-12T08:35:07.901488Z",
     "shell.execute_reply": "2023-01-12T08:35:07.900350Z"
    },
    "papermill": {
     "duration": 1.172232,
     "end_time": "2023-01-12T08:35:07.904329",
     "exception": false,
     "start_time": "2023-01-12T08:35:06.732097",
     "status": "completed"
    },
    "tags": []
   },
   "outputs": [],
   "source": [
    "import numpy as np\n",
    "import pandas as pd\n",
    "import matplotlib.pyplot as plt\n",
    "\n",
    "from sklearn.preprocessing import MinMaxScaler\n",
    "from sklearn.model_selection import train_test_split"
   ]
  },
  {
   "cell_type": "code",
   "execution_count": 3,
   "id": "01df5638",
   "metadata": {
    "execution": {
     "iopub.execute_input": "2023-01-12T08:35:07.917748Z",
     "iopub.status.busy": "2023-01-12T08:35:07.917317Z",
     "iopub.status.idle": "2023-01-12T08:35:08.034915Z",
     "shell.execute_reply": "2023-01-12T08:35:08.033873Z"
    },
    "papermill": {
     "duration": 0.127438,
     "end_time": "2023-01-12T08:35:08.037720",
     "exception": false,
     "start_time": "2023-01-12T08:35:07.910282",
     "status": "completed"
    },
    "tags": []
   },
   "outputs": [],
   "source": [
    "raw_data = pd.read_csv('/kaggle/input/marketing-strategy-personalised-offer/train_data.csv')"
   ]
  },
  {
   "cell_type": "code",
   "execution_count": 4,
   "id": "76c70d92",
   "metadata": {
    "execution": {
     "iopub.execute_input": "2023-01-12T08:35:08.051662Z",
     "iopub.status.busy": "2023-01-12T08:35:08.051211Z",
     "iopub.status.idle": "2023-01-12T08:35:08.056763Z",
     "shell.execute_reply": "2023-01-12T08:35:08.055870Z"
    },
    "papermill": {
     "duration": 0.015075,
     "end_time": "2023-01-12T08:35:08.058906",
     "exception": false,
     "start_time": "2023-01-12T08:35:08.043831",
     "status": "completed"
    },
    "tags": []
   },
   "outputs": [],
   "source": [
    "cols = ['offer_expiration', 'income_range', 'no_visited_Cold_drinks',\n",
    "       'travelled_more_than_15mins_for_offer', 'Restaur_spend_less_than20',\n",
    "       'Marital_Status', 'restaurant_type', 'age',\n",
    "       'Prefer_western_over_chinese', 'travelled_more_than_25mins_for_offer',\n",
    "       'travelled_more_than_5mins_for_offer', 'no_visited_bars', 'gender',\n",
    "       'car', 'restuarant_same_direction_house', 'Cooks_regularly',\n",
    "       'Customer_type', 'Qualification', 'is_foodie', 'no_Take_aways',\n",
    "       'Job_JobIndustry', 'restuarant_opposite_direction_house',\n",
    "       'has_Children', 'visit_restaurant_with_rating_avg', 'temperature',\n",
    "       'Restaur_spend_greater_than20', 'Travel_Time', 'Climate',\n",
    "       'drop_location', 'Prefer_home_food', 'Offer_Accepted']"
   ]
  },
  {
   "cell_type": "code",
   "execution_count": 5,
   "id": "14c01602",
   "metadata": {
    "execution": {
     "iopub.execute_input": "2023-01-12T08:35:08.074778Z",
     "iopub.status.busy": "2023-01-12T08:35:08.073924Z",
     "iopub.status.idle": "2023-01-12T08:35:08.278762Z",
     "shell.execute_reply": "2023-01-12T08:35:08.277207Z"
    },
    "papermill": {
     "duration": 0.215306,
     "end_time": "2023-01-12T08:35:08.281445",
     "exception": false,
     "start_time": "2023-01-12T08:35:08.066139",
     "status": "completed"
    },
    "tags": []
   },
   "outputs": [
    {
     "name": "stdout",
     "output_type": "stream",
     "text": [
      "raw train data shape:(12379, 31)\n",
      "new train data shape after droping 3 columns:(12379, 28)\n",
      "train data shape after dropping na  row values:(12379, 28)\n",
      "X  shape:(12379, 27), y shape:(12379,)\n",
      "traing data after applying get dummies fun:(12379, 48)\n",
      "X  shape:(12379, 48), y shape:(12379,)\n",
      "X mm shape:(12379, 48)\n"
     ]
    }
   ],
   "source": [
    "raw_data.set_axis(cols, inplace = True, axis = 1)\n",
    "print(f'raw train data shape:{raw_data.shape}')\n",
    "raw_data.drop(['car','travelled_more_than_5mins_for_offer', 'Job_JobIndustry' ], axis =1, inplace = True)\n",
    "print(f'new train data shape after droping 3 columns:{raw_data.shape}')\n",
    "raw_data.no_visited_Cold_drinks.replace(to_replace = np.nan , value = 'less1' , inplace = True)\n",
    "raw_data.Restaur_spend_less_than20.replace(to_replace = np.nan , value = '1~3' , inplace = True)\n",
    "raw_data.no_visited_bars.replace(to_replace = np.nan , value = 'never' , inplace = True)\n",
    "raw_data.no_Take_aways.replace(to_replace = np.nan , value = '1~3' , inplace = True)\n",
    "raw_data.Restaur_spend_greater_than20.replace(to_replace = np.nan , value = 'less1' , inplace = True)\n",
    "print(f'train data shape after dropping na  row values:{raw_data.shape}')\n",
    "\n",
    "train_data_1 = raw_data.replace({'offer_expiration' : {'2days':48, '10hours':10},\n",
    "    'income_range':{'Less than ₹12500':6250,'₹12500 - ₹24999':18750, '₹25000 - ₹37499':31250, '₹37500 - ₹49999':43750, '₹50000 - ₹62499':56250,\n",
    "                                            '₹62500 - ₹74999':68750,'₹75000 - ₹87499':81250, '₹87500 - ₹99999':93750, '₹100000 or More':100000  }, \n",
    "                               'age': {'below21':16, '21':21, '26':26, '31':31,'36':36, '41':41,'46':46,'50plus':51},\n",
    "                            'no_visited_Cold_drinks': {'less1':1, '1~3':3, 'never':0, 'gt8':8, '4~8':6},\n",
    "                            'Restaur_spend_greater_than20' : {'less1':1, '1~3':3, 'never':0, 'gt8':8, '4~8':6},\n",
    "                                 'no_Take_aways':{'less1':1, '1~3':3, 'never':0, 'gt8':8, '4~8':6}, \n",
    "                    'no_visited_bars': {'less1':1, '1~3':3, 'never':0, 'gt8':8, '4~8':6},\n",
    "                                 'Restaur_spend_less_than20': {'less1':1, '1~3':3, 'never':0, 'gt8':8, '4~8':6},\n",
    "                    'Offer_Accepted' : {'Yes':1, 'No':0}\n",
    "                                \n",
    "                            })\n",
    "\n",
    "y = train_data_1.iloc[:, -1]\n",
    "X = train_data_1.iloc[:,:-1]\n",
    "print(f'X  shape:{X.shape}, y shape:{y.shape}')\n",
    "\n",
    "train_data = pd.get_dummies(X)\n",
    "print(f'traing data after applying get dummies fun:{train_data.shape}')\n",
    "\n",
    "print(f'X  shape:{train_data.shape}, y shape:{y.shape}')\n",
    "\n",
    "cols2 = ['offer_expiration', 'income_range', 'no_visited_Cold_drinks',\n",
    "       'travelled_more_than_15mins_for_offer', 'Restaur_spend_less_than20',\n",
    "       'age', 'Prefer_western_over_chinese',\n",
    "       'travelled_more_than_25mins_for_offer', 'no_visited_bars',\n",
    "       'restuarant_same_direction_house', 'Cooks_regularly', 'is_foodie',\n",
    "       'no_Take_aways', 'restuarant_opposite_direction_house', 'has_Children',\n",
    "       'visit_restaurant_with_rating_avg', 'temperature',\n",
    "       'Restaur_spend_greater_than20', 'Travel_Time', 'Prefer_home_food',\n",
    "       'Marital_Status_Divorced', 'Marital_Status_Married partner',\n",
    "       'Marital_Status_Single', 'Marital_Status_Unmarried partner',\n",
    "       'Marital_Status_Widowed', 'restaurant_type_2 star restaurant',\n",
    "       'restaurant_type_4 star restaurant', 'restaurant_type_Cold drinks',\n",
    "       'restaurant_type_Restaurant with pub',\n",
    "       'restaurant_type_Take-away restaurant', 'gender_Female', 'gender_Male',\n",
    "       'Customer_type_Individual', 'Customer_type_With Colleagues',\n",
    "       'Customer_type_With Family', 'Customer_type_With Kids',\n",
    "       'Qualification_Associates degree', 'Qualification_Bachelors degree',\n",
    "       'Qualification_Graduate degree (Masters or Doctorate)',\n",
    "       'Qualification_High School Graduate', 'Qualification_Some High School',\n",
    "       'Qualification_Some college - no degree', 'Climate_Spring',\n",
    "       'Climate_Summer', 'Climate_Winter', 'drop_location_Location A',\n",
    "       'drop_location_Location B', 'drop_location_Location C']\n",
    "\n",
    "minmax = MinMaxScaler()\n",
    "X_mm= minmax.fit(train_data)\n",
    "X_mm = X_mm.transform(train_data)\n",
    "print(f'X mm shape:{X_mm.shape}')\n",
    "\n",
    "X = pd.DataFrame(X_mm, columns = cols2)\n",
    "\n",
    "X_train, X_test, y_train, y_test = train_test_split(X, y,test_size=0.3, random_state=42)"
   ]
  },
  {
   "cell_type": "code",
   "execution_count": 6,
   "id": "6ed175a7",
   "metadata": {
    "execution": {
     "iopub.execute_input": "2023-01-12T08:35:08.295698Z",
     "iopub.status.busy": "2023-01-12T08:35:08.295279Z",
     "iopub.status.idle": "2023-01-12T08:35:08.302316Z",
     "shell.execute_reply": "2023-01-12T08:35:08.300779Z"
    },
    "papermill": {
     "duration": 0.017925,
     "end_time": "2023-01-12T08:35:08.305307",
     "exception": false,
     "start_time": "2023-01-12T08:35:08.287382",
     "status": "completed"
    },
    "tags": []
   },
   "outputs": [],
   "source": [
    "# raw_data.set_axis(cols, inplace = True, axis = 1)\n",
    "# print(raw_data.shape)\n",
    "# raw_data.drop(['car'], axis =1, inplace = True)\n",
    "# print(raw_data.shape)\n",
    "# train_data = raw_data.dropna()\n",
    "# print(train_data.shape)\n",
    "# train_data.Offer_Accepted.replace(to_replace = 'Yes', value = 1, inplace =True)\n",
    "# train_data.Offer_Accepted.replace(to_replace = 'No', value = 0, inplace =True)\n",
    "# train_data_dropna = train_data.dropna()\n",
    "# print(train_data_dropna.shape)\n",
    "# new_train =pd.get_dummies(train_data_dropna)\n",
    "# print(new_train.shape)\n",
    "# y = new_train['Offer_Accepted']\n",
    "# X = new_train.drop(['Offer_Accepted'], axis = 1)\n",
    "# print(X.shape, y.shape)"
   ]
  },
  {
   "cell_type": "code",
   "execution_count": 7,
   "id": "1ba87471",
   "metadata": {
    "execution": {
     "iopub.execute_input": "2023-01-12T08:35:08.319439Z",
     "iopub.status.busy": "2023-01-12T08:35:08.319007Z",
     "iopub.status.idle": "2023-01-12T08:35:08.324625Z",
     "shell.execute_reply": "2023-01-12T08:35:08.323354Z"
    },
    "papermill": {
     "duration": 0.015733,
     "end_time": "2023-01-12T08:35:08.327181",
     "exception": false,
     "start_time": "2023-01-12T08:35:08.311448",
     "status": "completed"
    },
    "tags": []
   },
   "outputs": [],
   "source": [
    "from sklearn.metrics import f1_score"
   ]
  },
  {
   "cell_type": "code",
   "execution_count": null,
   "id": "0d43ee5c",
   "metadata": {
    "papermill": {
     "duration": 0.005567,
     "end_time": "2023-01-12T08:35:08.338794",
     "exception": false,
     "start_time": "2023-01-12T08:35:08.333227",
     "status": "completed"
    },
    "tags": []
   },
   "outputs": [],
   "source": []
  },
  {
   "cell_type": "code",
   "execution_count": 8,
   "id": "3d28faf3",
   "metadata": {
    "execution": {
     "iopub.execute_input": "2023-01-12T08:35:08.353007Z",
     "iopub.status.busy": "2023-01-12T08:35:08.352050Z",
     "iopub.status.idle": "2023-01-12T08:35:21.681878Z",
     "shell.execute_reply": "2023-01-12T08:35:21.680657Z"
    },
    "papermill": {
     "duration": 13.340152,
     "end_time": "2023-01-12T08:35:21.684670",
     "exception": false,
     "start_time": "2023-01-12T08:35:08.344518",
     "status": "completed"
    },
    "tags": []
   },
   "outputs": [
    {
     "name": "stdout",
     "output_type": "stream",
     "text": [
      "Requirement already satisfied: xgboost in /opt/conda/lib/python3.7/site-packages (1.6.2)\r\n",
      "Requirement already satisfied: numpy in /opt/conda/lib/python3.7/site-packages (from xgboost) (1.21.6)\r\n",
      "Requirement already satisfied: scipy in /opt/conda/lib/python3.7/site-packages (from xgboost) (1.7.3)\r\n",
      "\u001b[33mWARNING: Running pip as the 'root' user can result in broken permissions and conflicting behaviour with the system package manager. It is recommended to use a virtual environment instead: https://pip.pypa.io/warnings/venv\u001b[0m\u001b[33m\r\n",
      "\u001b[0m"
     ]
    }
   ],
   "source": [
    "from sklearn.dummy import DummyClassifier\n",
    "from sklearn.linear_model import Perceptron\n",
    "from sklearn.linear_model import RidgeClassifier\n",
    "from sklearn.linear_model import LogisticRegression\n",
    "from sklearn.linear_model import SGDClassifier\n",
    "from sklearn.neighbors import KNeighborsClassifier\n",
    "from sklearn.svm import LinearSVC, NuSVC\n",
    "from sklearn.svm import SVC\n",
    "from sklearn.tree import DecisionTreeClassifier\n",
    "from sklearn.ensemble import RandomForestClassifier\n",
    "from sklearn.ensemble import AdaBoostClassifier\n",
    "from sklearn.ensemble import GradientBoostingClassifier\n",
    "\n",
    "!pip install xgboost\n",
    "from xgboost import XGBClassifier\n",
    "\n",
    "from sklearn.model_selection import GridSearchCV\n"
   ]
  },
  {
   "cell_type": "code",
   "execution_count": 9,
   "id": "5ebeba32",
   "metadata": {
    "execution": {
     "iopub.execute_input": "2023-01-12T08:35:21.700289Z",
     "iopub.status.busy": "2023-01-12T08:35:21.699846Z",
     "iopub.status.idle": "2023-01-12T08:35:21.720032Z",
     "shell.execute_reply": "2023-01-12T08:35:21.718688Z"
    },
    "papermill": {
     "duration": 0.031313,
     "end_time": "2023-01-12T08:35:21.723572",
     "exception": false,
     "start_time": "2023-01-12T08:35:21.692259",
     "status": "completed"
    },
    "tags": []
   },
   "outputs": [
    {
     "name": "stdout",
     "output_type": "stream",
     "text": [
      "0.35732825748399377\n"
     ]
    },
    {
     "data": {
      "text/plain": [
       "0.5560043080236942"
      ]
     },
     "execution_count": 9,
     "metadata": {},
     "output_type": "execute_result"
    }
   ],
   "source": [
    "#dummy classifier\n",
    "dummy_classifier = DummyClassifier( random_state=42) \n",
    "dummy_classifier.fit(X_train, y_train)\n",
    "y_pred = dummy_classifier.predict(X_test)\n",
    "print(f1_score(y_test, y_pred, average = 'macro'))\n",
    "dummy_classifier.score(X_test, y_test)"
   ]
  },
  {
   "cell_type": "code",
   "execution_count": 10,
   "id": "0898ac2c",
   "metadata": {
    "execution": {
     "iopub.execute_input": "2023-01-12T08:35:21.738726Z",
     "iopub.status.busy": "2023-01-12T08:35:21.738313Z",
     "iopub.status.idle": "2023-01-12T08:35:21.758821Z",
     "shell.execute_reply": "2023-01-12T08:35:21.757872Z"
    },
    "papermill": {
     "duration": 0.030934,
     "end_time": "2023-01-12T08:35:21.761178",
     "exception": false,
     "start_time": "2023-01-12T08:35:21.730244",
     "status": "completed"
    },
    "tags": []
   },
   "outputs": [],
   "source": [
    "def dummy_clf(X_train,X_test, y_train, y_test):\n",
    "    dummy_clf = DummyClassifier(random_state = 42)\n",
    "    dummy_clf.fit(X_train,y_train)\n",
    "    y_predict = dummy_clf.predict(X_test)\n",
    "    return(f'dummy clf f1_score:{{f1_score(y_test, y_predict, average = \"weighted\")}}')\n",
    "\n",
    "def per_clf(X_train,X_test, y_train, y_test):\n",
    "    per_clf = Perceptron(random_state = 42)\n",
    "    per_clf.fit(X_train,y_train)\n",
    "    y_predict = per_clf.predict(X_test)\n",
    "    return(f'perceptron clf f1_score:{{f1_score(y_test, y_predict, average = \"weighted\")}}')\n",
    "\n",
    "def SGD_clf(X_train,X_test, y_train, y_test):\n",
    "  sgd_clf = SGDClassifier(random_state = 42)\n",
    "  sgd_clf.fit(X_train, y_train)\n",
    "  y_predict = sgd_clf.predict(X_test)\n",
    "  return(f'SGD_classifier _f1_score: {f1_score(y_test, y_predict, average = \"weighted\")}')\n",
    "\n",
    "def logistic_clf(X_train,X_test, y_train, y_test):\n",
    "  log_clf = SGDClassifier(random_state = 42)\n",
    "  log_clf.fit(X_train, y_train)\n",
    "  y_predict = log_clf.predict(X_test)\n",
    "  return(f'logistic_classifier _f1_score: {f1_score(y_test, y_predict, average = \"weighted\")}')\n",
    "\n",
    "def ridge_clf(X_train,X_test, y_train, y_test):\n",
    "  ridge_clf = RidgeClassifier(random_state = 42)\n",
    "  ridge_clf.fit(X_train, y_train)\n",
    "  y_predict = ridge_clf.predict(X_test)\n",
    "  return(f'ridge_classifier _f1_score: {f1_score(y_test, y_predict, average = \"weighted\")}')\n",
    "\n",
    "def knn_clf(X_train,X_test, y_train, y_test):\n",
    "  KNN_clf = KNeighborsClassifier()\n",
    "  KNN_clf.fit(X_train, y_train)\n",
    "  y_predict = KNN_clf.predict(X_test)\n",
    "  return(f'KNN_classifier _f1_score: {f1_score(y_test, y_predict, average = \"weighted\")}')\n",
    "\n",
    "def linear_svc_clf(X_train,X_test, y_train, y_test):\n",
    "  lin_svc_clf = LinearSVC(random_state = 42)\n",
    "  lin_svc_clf.fit(X_train, y_train)\n",
    "  y_predict = lin_svc_clf.predict(X_test)\n",
    "  return(f'linear_svc_classifier _f1_score: {f1_score(y_test, y_predict, average = \"weighted\")}')\n",
    "\n",
    "def Nu_svc_clf(X_train,X_test, y_train, y_test):\n",
    "  Nu_svc_clf = NuSVC(random_state = 42)\n",
    "  Nu_svc_clf.fit(X_train, y_train)\n",
    "  y_predict = Nu_svc_clf.predict(X_test)\n",
    "  return(f'Nu_svc_classifier _f1_score: {f1_score(y_test, y_predict, average = \"weighted\")}')\n",
    "\n",
    "def svc_clf(X_train,X_test, y_train, y_test):\n",
    "  svc_clf = SVC(random_state = 42)\n",
    "  svc_clf.fit(X_train, y_train)\n",
    "  y_predict = svc_clf.predict(X_test)\n",
    "  return(f'SVC_classifier _f1_score: {f1_score(y_test, y_predict, average = \"weighted\")}')\n",
    "\n",
    "def decision_tree_clf(X_train,X_test, y_train, y_test):\n",
    "  dt_clf = DecisionTreeClassifier(random_state = 42)\n",
    "  dt_clf.fit(X_train, y_train)\n",
    "  y_predict = dt_clf.predict(X_test)\n",
    "  return(f'Decision_tress_classifier _f1_score: {f1_score(y_test, y_predict, average = \"weighted\")}')\n",
    "\n",
    "def random_forest_clf(X_train,X_test, y_train, y_test):\n",
    "  rfc_clf = RandomForestClassifier(random_state = 42)\n",
    "  rfc_clf.fit(X_train, y_train)\n",
    "  y_predict = rfc_clf.predict(X_test)\n",
    "  return(f'Random_forest_classifier _f1_score: {f1_score(y_test, y_predict, average = \"weighted\")}')\n",
    "\n",
    "def AdaBoost_clf(X_train,X_test, y_train, y_test):\n",
    "  AbaB_clf = AdaBoostClassifier(random_state = 42)\n",
    "  AbaB_clf.fit(X_train, y_train)\n",
    "  y_predict = AbaB_clf.predict(X_test)\n",
    "  return(f'AdaBoost_classifier _f1_score: {f1_score(y_test, y_predict, average = \"weighted\")}')\n",
    "\n",
    "def GradientBoost_clf(X_train,X_test, y_train, y_test):\n",
    "  GrB_clf = GradientBoostingClassifier(random_state = 42)\n",
    "  GrB_clf.fit(X_train, y_train)\n",
    "  y_predict = GrB_clf.predict(X_test)\n",
    "  return(f'GradientBoost_classifier _f1_score: {f1_score(y_test, y_predict, average = \"weighted\")}')\n",
    "\n",
    "def XGB_clf(X_train,X_test, y_train, y_test):\n",
    "  xgb_clf = XGBClassifier(random_state = 42)\n",
    "  xgb_clf.fit(X_train, y_train)\n",
    "  y_predict = xgb_clf.predict(X_test)\n",
    "  return(f'XGBoost_classifier _f1_score: {f1_score(y_test, y_predict, average = \"weighted\")}')"
   ]
  },
  {
   "cell_type": "code",
   "execution_count": 11,
   "id": "a2bc2494",
   "metadata": {
    "execution": {
     "iopub.execute_input": "2023-01-12T08:35:21.775652Z",
     "iopub.status.busy": "2023-01-12T08:35:21.775193Z",
     "iopub.status.idle": "2023-01-12T08:35:51.929471Z",
     "shell.execute_reply": "2023-01-12T08:35:51.928426Z"
    },
    "papermill": {
     "duration": 30.165585,
     "end_time": "2023-01-12T08:35:51.933095",
     "exception": false,
     "start_time": "2023-01-12T08:35:21.767510",
     "status": "completed"
    },
    "tags": []
   },
   "outputs": [
    {
     "name": "stdout",
     "output_type": "stream",
     "text": [
      "dummy clf f1_score:{f1_score(y_test, y_predict, average = \"weighted\")}\n",
      "perceptron clf f1_score:{f1_score(y_test, y_predict, average = \"weighted\")}\n",
      "SGD_classifier _f1_score: 0.5024161018023635\n",
      "logistic_classifier _f1_score: 0.5024161018023635\n",
      "ridge_classifier _f1_score: 0.5830366487328589\n",
      "KNN_classifier _f1_score: 0.5692433887253409\n",
      "linear_svc_classifier _f1_score: 0.5830366487328589\n",
      "Nu_svc_classifier _f1_score: 0.5621624014536457\n",
      "SVC_classifier _f1_score: 0.5912768764913169\n",
      "Decision_tress_classifier _f1_score: 0.545367479809025\n",
      "Random_forest_classifier _f1_score: 0.6024292244529041\n",
      "AdaBoost_classifier _f1_score: 0.5892692026231676\n",
      "GradientBoost_classifier _f1_score: 0.6003596125692878\n",
      "XGBoost_classifier _f1_score: 0.5962825024798967\n"
     ]
    }
   ],
   "source": [
    "print(dummy_clf(X_train,X_test,y_train, y_test))\n",
    "print(per_clf(X_train,X_test,y_train, y_test))\n",
    "print(SGD_clf(X_train,X_test,y_train, y_test))\n",
    "print(logistic_clf(X_train,X_test,y_train, y_test))\n",
    "print(ridge_clf(X_train,X_test,y_train, y_test))\n",
    "print(knn_clf(X_train,X_test,y_train, y_test))\n",
    "print(linear_svc_clf(X_train,X_test,y_train, y_test))\n",
    "print(Nu_svc_clf(X_train,X_test,y_train, y_test))\n",
    "print(svc_clf(X_train,X_test,y_train, y_test))\n",
    "print(decision_tree_clf(X_train,X_test,y_train, y_test))\n",
    "print(random_forest_clf(X_train,X_test,y_train, y_test))\n",
    "print(AdaBoost_clf(X_train,X_test,y_train, y_test))\n",
    "print(GradientBoost_clf(X_train,X_test,y_train, y_test))\n",
    "print(XGB_clf(X_train,X_test,y_train, y_test))"
   ]
  },
  {
   "cell_type": "code",
   "execution_count": 12,
   "id": "5bf154e2",
   "metadata": {
    "execution": {
     "iopub.execute_input": "2023-01-12T08:35:51.950170Z",
     "iopub.status.busy": "2023-01-12T08:35:51.949354Z",
     "iopub.status.idle": "2023-01-12T08:35:51.955279Z",
     "shell.execute_reply": "2023-01-12T08:35:51.954270Z"
    },
    "papermill": {
     "duration": 0.017413,
     "end_time": "2023-01-12T08:35:51.957664",
     "exception": false,
     "start_time": "2023-01-12T08:35:51.940251",
     "status": "completed"
    },
    "tags": []
   },
   "outputs": [],
   "source": [
    "from sklearn.metrics import confusion_matrix, classification_report\n",
    "from sklearn.model_selection import train_test_split\n",
    "from sklearn.ensemble import RandomForestClassifier"
   ]
  },
  {
   "cell_type": "code",
   "execution_count": 13,
   "id": "f65692aa",
   "metadata": {
    "execution": {
     "iopub.execute_input": "2023-01-12T08:35:51.973776Z",
     "iopub.status.busy": "2023-01-12T08:35:51.972909Z",
     "iopub.status.idle": "2023-01-12T08:35:53.682511Z",
     "shell.execute_reply": "2023-01-12T08:35:53.681153Z"
    },
    "papermill": {
     "duration": 1.720714,
     "end_time": "2023-01-12T08:35:53.685310",
     "exception": false,
     "start_time": "2023-01-12T08:35:51.964596",
     "status": "completed"
    },
    "tags": []
   },
   "outputs": [
    {
     "name": "stdout",
     "output_type": "stream",
     "text": [
      "0.628163704900377\n"
     ]
    },
    {
     "data": {
      "text/plain": [
       "1.0"
      ]
     },
     "execution_count": 13,
     "metadata": {},
     "output_type": "execute_result"
    }
   ],
   "source": [
    "X_train, X_test, y_train, y_test = train_test_split(X, y, test_size=0.3, random_state=42)\n",
    "rfc_ohc= RandomForestClassifier( max_depth = 17,random_state=42)\n",
    "rfc_ohc.fit(X_train, y_train)\n",
    "\n",
    "print(rfc_ohc.score(X_test, y_test))\n",
    "rfc_ohc.score(X_train, y_train)"
   ]
  },
  {
   "cell_type": "code",
   "execution_count": 14,
   "id": "09cdfa4f",
   "metadata": {
    "execution": {
     "iopub.execute_input": "2023-01-12T08:35:53.701405Z",
     "iopub.status.busy": "2023-01-12T08:35:53.700973Z",
     "iopub.status.idle": "2023-01-12T08:35:53.837262Z",
     "shell.execute_reply": "2023-01-12T08:35:53.835589Z"
    },
    "papermill": {
     "duration": 0.147478,
     "end_time": "2023-01-12T08:35:53.840111",
     "exception": false,
     "start_time": "2023-01-12T08:35:53.692633",
     "status": "completed"
    },
    "tags": []
   },
   "outputs": [
    {
     "name": "stdout",
     "output_type": "stream",
     "text": [
      "              precision    recall  f1-score   support\n",
      "\n",
      "           0       0.63      0.39      0.48      1649\n",
      "           1       0.63      0.82      0.71      2065\n",
      "\n",
      "    accuracy                           0.63      3714\n",
      "   macro avg       0.63      0.60      0.60      3714\n",
      "weighted avg       0.63      0.63      0.61      3714\n",
      "\n"
     ]
    }
   ],
   "source": [
    "y_pred1 = rfc_ohc.predict(X_test)\n",
    "print(classification_report(y_test, y_pred1))"
   ]
  },
  {
   "cell_type": "code",
   "execution_count": 15,
   "id": "3bca987d",
   "metadata": {
    "execution": {
     "iopub.execute_input": "2023-01-12T08:35:53.857276Z",
     "iopub.status.busy": "2023-01-12T08:35:53.856864Z",
     "iopub.status.idle": "2023-01-12T08:36:01.133406Z",
     "shell.execute_reply": "2023-01-12T08:36:01.132194Z"
    },
    "papermill": {
     "duration": 7.287629,
     "end_time": "2023-01-12T08:36:01.135776",
     "exception": false,
     "start_time": "2023-01-12T08:35:53.848147",
     "status": "completed"
    },
    "tags": []
   },
   "outputs": [
    {
     "data": {
      "image/png": "[encoded data removed]",
      "text/plain": [
       "<Figure size 432x288 with 1 Axes>"
      ]
     },
     "metadata": {
      "needs_background": "light"
     },
     "output_type": "display_data"
    }
   ],
   "source": [
    "scoress = []\n",
    "plt.figure()\n",
    "for depth in np.arange(15,20):\n",
    "  rfc= RandomForestClassifier(max_depth=depth, random_state=42)\n",
    "  rfc.fit(X_train, y_train)\n",
    "  scoress.append(rfc.score(X_test, y_test))\n",
    "  \n",
    "  #plt.xlabel(depth)\n",
    "  #plt.ylabel(rfc.score(X_test, y_test))\n",
    "\n",
    "x,Y = np.arange(15,20),scoress \n",
    "plt.plot(x,Y)\n",
    "plt.show()"
   ]
  },
  {
   "cell_type": "code",
   "execution_count": 16,
   "id": "67770cca",
   "metadata": {
    "execution": {
     "iopub.execute_input": "2023-01-12T08:36:01.152567Z",
     "iopub.status.busy": "2023-01-12T08:36:01.152109Z",
     "iopub.status.idle": "2023-01-12T08:36:01.203359Z",
     "shell.execute_reply": "2023-01-12T08:36:01.201913Z"
    },
    "papermill": {
     "duration": 0.063151,
     "end_time": "2023-01-12T08:36:01.206459",
     "exception": false,
     "start_time": "2023-01-12T08:36:01.143308",
     "status": "completed"
    },
    "tags": []
   },
   "outputs": [],
   "source": [
    "test_data = pd.read_csv('/kaggle/input/marketing-strategy-personalised-offer/test_data.csv')"
   ]
  },
  {
   "cell_type": "code",
   "execution_count": 17,
   "id": "f495df3a",
   "metadata": {
    "execution": {
     "iopub.execute_input": "2023-01-12T08:36:01.223476Z",
     "iopub.status.busy": "2023-01-12T08:36:01.222979Z",
     "iopub.status.idle": "2023-01-12T08:36:01.229307Z",
     "shell.execute_reply": "2023-01-12T08:36:01.228263Z"
    },
    "papermill": {
     "duration": 0.017553,
     "end_time": "2023-01-12T08:36:01.231588",
     "exception": false,
     "start_time": "2023-01-12T08:36:01.214035",
     "status": "completed"
    },
    "tags": []
   },
   "outputs": [],
   "source": [
    "cols_1 = ['offer_expiration', 'income_range', 'no_visited_Cold_drinks',\n",
    "       'travelled_more_than_15mins_for_offer', 'Restaur_spend_less_than20',\n",
    "       'Marital_Status', 'restaurant_type', 'age',\n",
    "       'Prefer_western_over_chinese', 'travelled_more_than_25mins_for_offer',\n",
    "       'travelled_more_than_5mins_for_offer', 'no_visited_bars', 'gender',\n",
    "       'car', 'restuarant_same_direction_house', 'Cooks_regularly',\n",
    "       'Customer_type', 'Qualification', 'is_foodie', 'no_Take_aways',\n",
    "       'Job_JobIndustry', 'restuarant_opposite_direction_house',\n",
    "       'has_Children', 'visit_restaurant_with_rating_avg', 'temperature',\n",
    "       'Restaur_spend_greater_than20', 'Travel_Time', 'Climate',\n",
    "       'drop_location', 'Prefer_home_food']"
   ]
  },
  {
   "cell_type": "code",
   "execution_count": 18,
   "id": "3d81861e",
   "metadata": {
    "execution": {
     "iopub.execute_input": "2023-01-12T08:36:01.249067Z",
     "iopub.status.busy": "2023-01-12T08:36:01.248433Z",
     "iopub.status.idle": "2023-01-12T08:36:01.527519Z",
     "shell.execute_reply": "2023-01-12T08:36:01.525833Z"
    },
    "papermill": {
     "duration": 0.291696,
     "end_time": "2023-01-12T08:36:01.530950",
     "exception": false,
     "start_time": "2023-01-12T08:36:01.239254",
     "status": "completed"
    },
    "tags": []
   },
   "outputs": [
    {
     "name": "stdout",
     "output_type": "stream",
     "text": [
      "raw train data shape:(5305, 30)\n",
      "new test data shape after droping 3 columns:(5305, 27)\n",
      "test data shape after dropping na  row values:(5305, 27)\n",
      "traing data after applying get dummies fun:(5305, 48)\n",
      "X mm shape:(5305, 48)\n"
     ]
    }
   ],
   "source": [
    "test_data.set_axis(cols_1, inplace = True, axis = 1)\n",
    "print(f'raw train data shape:{test_data.shape}')\n",
    "test_data.drop(['car','travelled_more_than_5mins_for_offer', 'Job_JobIndustry' ], axis =1, inplace = True)\n",
    "print(f'new test data shape after droping 3 columns:{test_data.shape}')\n",
    "test_data.no_visited_Cold_drinks.replace(to_replace = np.nan , value = 'less1' , inplace = True)\n",
    "test_data.Restaur_spend_less_than20.replace(to_replace = np.nan , value = '1~3' , inplace = True)\n",
    "test_data.no_visited_bars.replace(to_replace = np.nan , value = 'never' , inplace = True)\n",
    "test_data.no_Take_aways.replace(to_replace = np.nan , value = '1~3' , inplace = True)\n",
    "test_data.Restaur_spend_greater_than20.replace(to_replace = np.nan , value = 'less1' , inplace = True)\n",
    "print(f'test data shape after dropping na  row values:{test_data.shape}')\n",
    "\n",
    "test_data = test_data.replace({'offer_expiration' : {'2days':48, '10hours':10},\n",
    "    'income_range':{'Less than ₹12500':6250,'₹12500 - ₹24999':18750, '₹25000 - ₹37499':31250, '₹37500 - ₹49999':43750, '₹50000 - ₹62499':56250,\n",
    "                                            '₹62500 - ₹74999':68750,'₹75000 - ₹87499':81250, '₹87500 - ₹99999':93750, '₹100000 or More':100000  }, \n",
    "                               'age': {'below21':16, '21':21, '26':26, '31':31,'36':36, '41':41,'46':46,'50plus':51},\n",
    "                            'no_visited_Cold_drinks': {'less1':1, '1~3':3, 'never':0, 'gt8':8, '4~8':6},\n",
    "                            'Restaur_spend_greater_than20' : {'less1':1, '1~3':3, 'never':0, 'gt8':8, '4~8':6},\n",
    "                                 'no_Take_aways':{'less1':1, '1~3':3, 'never':0, 'gt8':8, '4~8':6}, \n",
    "                    'no_visited_bars': {'less1':1, '1~3':3, 'never':0, 'gt8':8, '4~8':6},\n",
    "                                 'Restaur_spend_less_than20': {'less1':1, '1~3':3, 'never':0, 'gt8':8, '4~8':6},\n",
    "                    \n",
    "                                \n",
    "                            })\n",
    "\n",
    "X_test_data = pd.get_dummies(test_data)\n",
    "print(f'traing data after applying get dummies fun:{X_test_data.shape}')\n",
    "\n",
    "minmax = MinMaxScaler()\n",
    "X_test_mm = minmax.fit_transform(X_test_data)\n",
    "print(f'X mm shape:{X_test_mm.shape}')\n",
    "X_test_mm = pd.DataFrame(X_test_mm, columns = cols2)\n",
    "\n",
    "y_predict = rfc_ohc.predict(X_test_mm)\n",
    "output = pd.DataFrame()\n",
    "output['Id'] = output.index\n",
    "output['Offer_Accepted'] = pd.DataFrame(y_predict)\n",
    "output['Id'] = output.index\n",
    "output.Offer_Accepted.replace(to_replace = 1 , value = 'Yes' , inplace = True)\n",
    "output.Offer_Accepted.replace(to_replace = 0 , value = 'No' , inplace = True)\n",
    "output.set_axis(['Id' , 'Offer Accepted'], axis =1, inplace = True)\n",
    "output.to_csv('submission.csv' , index =False)"
   ]
  },
  {
   "cell_type": "code",
   "execution_count": null,
   "id": "ba30f681",
   "metadata": {
    "papermill": {
     "duration": 0.007813,
     "end_time": "2023-01-12T08:36:01.547730",
     "exception": false,
     "start_time": "2023-01-12T08:36:01.539917",
     "status": "completed"
    },
    "tags": []
   },
   "outputs": [],
   "source": []
  }
 ],
 "metadata": {
  "kernelspec": {
   "display_name": "Python 3",
   "language": "python",
   "name": "python3"
  },
  "language_info": {
   "codemirror_mode": {
    "name": "ipython",
    "version": 3
   },
   "file_extension": ".py",
   "mimetype": "text/x-python",
   "name": "python",
   "nbconvert_exporter": "python",
   "pygments_lexer": "ipython3",
   "version": "3.7.12"
  },
  "papermill": {
   "default_parameters": {},
   "duration": 64.980379,
   "end_time": "2023-01-12T08:36:02.479834",
   "environment_variables": {},
   "exception": null,
   "input_path": "__notebook__.ipynb",
   "output_path": "__notebook__.ipynb",
   "parameters": {},
   "start_time": "2023-01-12T08:34:57.499455",
   "version": "2.3.4"
  }
 },
 "nbformat": 4,
 "nbformat_minor": 5
}
